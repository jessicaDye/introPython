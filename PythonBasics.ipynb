{
  "nbformat": 4,
  "nbformat_minor": 0,
  "metadata": {
    "colab": {
      "provenance": [],
      "authorship_tag": "ABX9TyOYDFQhKquBUnpoQ5pvE+RE",
      "include_colab_link": true
    },
    "kernelspec": {
      "name": "python3",
      "display_name": "Python 3"
    },
    "language_info": {
      "name": "python"
    }
  },
  "cells": [
    {
      "cell_type": "markdown",
      "metadata": {
        "id": "view-in-github",
        "colab_type": "text"
      },
      "source": [
        "<a href=\"https://colab.research.google.com/github/jessicaDye/introPython/blob/main/PythonBasics.ipynb\" target=\"_parent\"><img src=\"https://colab.research.google.com/assets/colab-badge.svg\" alt=\"Open In Colab\"/></a>"
      ]
    },
    {
      "cell_type": "code",
      "execution_count": null,
      "metadata": {
        "id": "KAU8HbZdBc5M"
      },
      "outputs": [],
      "source": [
        "print('Hello World');"
      ]
    },
    {
      "cell_type": "markdown",
      "source": [],
      "metadata": {
        "id": "kvozc-iMB4w_"
      }
    },
    {
      "cell_type": "code",
      "source": [],
      "metadata": {
        "id": "ohUMyTLcB6cD"
      },
      "execution_count": null,
      "outputs": []
    },
    {
      "cell_type": "markdown",
      "source": [
        "* int\n",
        "* str\n",
        "* float\n",
        "* bool"
      ],
      "metadata": {
        "id": "uObJts83B7mi"
      }
    },
    {
      "cell_type": "code",
      "source": [
        "x = 5          # int\n",
        "s = 'hello'    # str\n",
        "temp = 98.6   # float\n",
        "iAmSam = False # bool, must be uppercase\n",
        "y = '98.6'\n",
        "print(x + temp)\n",
        "\n",
        "my_list = ['I', 'love', 'CIS']\n",
        "print(my_list[2])\n",
        "my_list2 = [3, 'hello', 'frogs', 4.3, True]\n",
        "\n",
        "##example_dict = {'triangle':3, 'square'}\n",
        "\n",
        "#STATE\n",
        "farmer_is_on_top = True\n",
        "wolf_is_on_top = True\n",
        "sheep_is_on_top = True\n",
        "oats_is_on_top = True\n",
        "\n",
        "oats_is_intact = True\n",
        "sheep_is_alive = True\n",
        "\n",
        "def print_state():\n",
        "  \"\"\" Prints all the parties on top of river bank, followed ==========,\n",
        "  then all parties below the river bank \"\"\"\n",
        "  # TODO\n",
        "  if farmer_is_on_top == True:\n",
        "    print('FARMER')\n",
        "  #######\n",
        "  if wolf_is_on_top:\n",
        "    print('WOLF')\n",
        "  if sheep_is_on_top:\n",
        "    print('SHEEP')\n",
        "  print('OATS') if oats_is_on_top\n",
        "  print('==========')\n",
        "  if farmer_is_on_top != True:\n",
        "    print('FARMER')\n",
        "  if not wolf_is_on_top:\n",
        "    print('WOLF')\n",
        "  if not sheep_is_on_top:\n",
        "    print('Sheep')\n",
        "\n",
        "  def move(thing):\n",
        "    \"\"\"Updates STATE variables given that the farmer moves thing must be one of 'wolf', 'sheep', 'oats'\n",
        "    \"\"\"\n",
        "\n"
      ],
      "metadata": {
        "id": "zVyrd6jSM0Rx",
        "colab": {
          "base_uri": "https://localhost:8080/",
          "height": 108
        },
        "outputId": "bad17a15-6da6-4452-c92d-5cc1f4553e0a"
      },
      "execution_count": 7,
      "outputs": [
        {
          "output_type": "error",
          "ename": "SyntaxError",
          "evalue": "unterminated triple-quoted string literal (detected at line 45) (ipython-input-1114177008.py, line 44)",
          "traceback": [
            "\u001b[0;36m  File \u001b[0;32m\"/tmp/ipython-input-1114177008.py\"\u001b[0;36m, line \u001b[0;32m44\u001b[0m\n\u001b[0;31m    \"\"\"Updates STATE variables given that the farmer moves thing must be one of 'wolf', 'sheep',\u001b[0m\n\u001b[0m    ^\u001b[0m\n\u001b[0;31mSyntaxError\u001b[0m\u001b[0;31m:\u001b[0m unterminated triple-quoted string literal (detected at line 45)\n"
          ]
        }
      ]
    },
    {
      "cell_type": "markdown",
      "source": [
        "** PEAS **\n",
        "* Performance Measure\n",
        "* Environment\n",
        "  * includes **state** and rules for how **actions** update the state\n",
        "* Actions\n",
        "* Sensors - the portion of the world state that the agent can see\n",
        "\n",
        "* agent - an autonomous program that sees thru sensors and determines\n",
        "\n",
        "continuous vs. discreet\n"
      ],
      "metadata": {
        "id": "uL9vaWOaPcEs"
      }
    },
    {
      "cell_type": "markdown",
      "source": [
        "####AI AGENT NOTES\n",
        "the representation problem - how to represent a problem in a programming language"
      ],
      "metadata": {
        "id": "HltacZdVCVbb"
      }
    },
    {
      "cell_type": "code",
      "source": [
        "farmer_on_top"
      ],
      "metadata": {
        "id": "m-QabvGQCj4_",
        "colab": {
          "base_uri": "https://localhost:8080/",
          "height": 144
        },
        "outputId": "166750fe-7a5d-4c39-80b2-d078bd80e3c0"
      },
      "execution_count": 1,
      "outputs": [
        {
          "output_type": "error",
          "ename": "NameError",
          "evalue": "name 'farmer_on_top' is not defined",
          "traceback": [
            "\u001b[0;31m---------------------------------------------------------------------------\u001b[0m",
            "\u001b[0;31mNameError\u001b[0m                                 Traceback (most recent call last)",
            "\u001b[0;32m/tmp/ipython-input-2355362630.py\u001b[0m in \u001b[0;36m<cell line: 0>\u001b[0;34m()\u001b[0m\n\u001b[0;32m----> 1\u001b[0;31m \u001b[0mfarmer_on_top\u001b[0m\u001b[0;34m\u001b[0m\u001b[0;34m\u001b[0m\u001b[0m\n\u001b[0m",
            "\u001b[0;31mNameError\u001b[0m: name 'farmer_on_top' is not defined"
          ]
        }
      ]
    }
  ]
}