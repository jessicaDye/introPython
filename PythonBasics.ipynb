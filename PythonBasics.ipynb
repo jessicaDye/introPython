{
  "nbformat": 4,
  "nbformat_minor": 0,
  "metadata": {
    "colab": {
      "provenance": [],
      "authorship_tag": "ABX9TyPBzDZrAA4fEu4FoELljJgr",
      "include_colab_link": true
    },
    "kernelspec": {
      "name": "python3",
      "display_name": "Python 3"
    },
    "language_info": {
      "name": "python"
    }
  },
  "cells": [
    {
      "cell_type": "markdown",
      "metadata": {
        "id": "view-in-github",
        "colab_type": "text"
      },
      "source": [
        "<a href=\"https://colab.research.google.com/github/jessicaDye/introPython/blob/main/PythonBasics.ipynb\" target=\"_parent\"><img src=\"https://colab.research.google.com/assets/colab-badge.svg\" alt=\"Open In Colab\"/></a>"
      ]
    },
    {
      "cell_type": "code",
      "execution_count": null,
      "metadata": {
        "id": "KAU8HbZdBc5M"
      },
      "outputs": [],
      "source": [
        "print('Hello World');"
      ]
    },
    {
      "cell_type": "markdown",
      "source": [],
      "metadata": {
        "id": "kvozc-iMB4w_"
      }
    },
    {
      "cell_type": "code",
      "source": [],
      "metadata": {
        "id": "ohUMyTLcB6cD"
      },
      "execution_count": null,
      "outputs": []
    },
    {
      "cell_type": "markdown",
      "source": [
        "* int\n",
        "* str\n",
        "* float\n",
        "* bool"
      ],
      "metadata": {
        "id": "uObJts83B7mi"
      }
    },
    {
      "cell_type": "code",
      "source": [
        "x = 5          # int\n",
        "s = 'hello'    # str\n",
        "temp = 98.6.   # float\n",
        "iAmSam = False # bool, must be uppercase\n",
        "y = '98.6'\n",
        "print(x + temp)\n",
        "\n",
        "my_list = ['I', 'love', 'CIS']\n",
        "print(my_list[2])\n",
        "my_list2 = [3, 'hello', 'frogs', 4.3, True]\n",
        "\n",
        "example_dict = {'triangle':3, 'square'}\n",
        "\n"
      ],
      "metadata": {
        "id": "zVyrd6jSM0Rx"
      },
      "execution_count": null,
      "outputs": []
    },
    {
      "cell_type": "markdown",
      "source": [
        "** PEAS **\n",
        "* Performance Measure\n",
        "* Environment\n",
        "  * includes **state** and rules for how **actions** update the state\n",
        "* Actions\n",
        "* Sensors - the portion of the world state that the agent can see\n",
        "\n",
        "* agent - an autonomous program that sees thru sensors and determines\n",
        "\n",
        "continuous vs. discreet\n"
      ],
      "metadata": {
        "id": "uL9vaWOaPcEs"
      }
    },
    {
      "cell_type": "markdown",
      "source": [
        "####AI AGENT NOTES\n",
        "the representation problem - how to represent a problem in a programming language"
      ],
      "metadata": {
        "id": "HltacZdVCVbb"
      }
    },
    {
      "cell_type": "code",
      "source": [
        "farmer_on_top"
      ],
      "metadata": {
        "id": "m-QabvGQCj4_"
      },
      "execution_count": null,
      "outputs": []
    }
  ]
}